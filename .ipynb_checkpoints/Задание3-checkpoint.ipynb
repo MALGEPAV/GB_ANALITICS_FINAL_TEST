{
 "cells": [
  {
   "cell_type": "markdown",
   "id": "31095f82",
   "metadata": {},
   "source": [
    "### Задание 3\n",
    "__Мы хотим провести А/Б-тест для трех источников трафика. Нынешняя конверсия равна 5%,\n",
    "мы ожидаем прирост в 0,2%.\n",
    "Уровень доверия 97% и уровень мощности 87%.\n",
    "Всего на наш продукт заходит 40 000 пользователей в месяц.__"
   ]
  },
  {
   "cell_type": "markdown",
   "id": "5e2cc28f",
   "metadata": {},
   "source": [
    "#### 3.1)\n",
    "__*За сколько дней мы сможем протестировать гипотезу? И что вы можете посоветовать по\n",
    "результатам подсчета?*__"
   ]
  },
  {
   "cell_type": "markdown",
   "id": "a51bc615",
   "metadata": {},
   "source": [
    " Используем калькулятор на сайте: https://mindbox.ru/tools/ab-test-calculator/"
   ]
  },
  {
   "cell_type": "markdown",
   "id": "9c92c3a7",
   "metadata": {},
   "source": [
    "Прирост 0,2% интерпретируется как абсолютный, то есть от 5% до 5,2%."
   ]
  },
  {
   "cell_type": "markdown",
   "id": "f965ed77",
   "metadata": {},
   "source": [
    "![sample_size_calculator_screenshot](task2_sample_size.png)"
   ]
  },
  {
   "cell_type": "markdown",
   "id": "7a57bed5",
   "metadata": {},
   "source": [
    "Видим, что размер выборки должен быть как минимум 1_522_706, поэтому для проведения теста потребуется:"
   ]
  },
  {
   "cell_type": "markdown",
   "id": "6fd9105a",
   "metadata": {},
   "source": [
    "1522706/40000 = 38.06765 месяцев, то есть 3 года и 2 месяца."
   ]
  },
  {
   "cell_type": "markdown",
   "id": "0bcc80d6",
   "metadata": {},
   "source": [
    "Такой тест проводить не рекомендуется, так как из-за слишком большой длительности, его результаты нельзя будет считать адекватными."
   ]
  },
  {
   "cell_type": "markdown",
   "id": "04242643",
   "metadata": {},
   "source": [
    "Целесообразнее будет тестировать гипотезу с более высоким ожидаемым приростом конверсий, для которой потребуется меньше времени на проведение теста."
   ]
  },
  {
   "cell_type": "markdown",
   "id": "604990d9",
   "metadata": {},
   "source": [
    "#### 3.2) \n",
    "__Допустим в задаче нет проблемы с количеством посетителей на сайт, тогда подведите\n",
    "результаты тестирования, если у нас следующие результаты по количеству конверсии:</br>\n",
    "1)25 000 </br>\n",
    "2)30 000 </br>\n",
    "3)32 000__\n",
    "\n",
    "\n"
   ]
  },
  {
   "cell_type": "markdown",
   "id": "0adb4184",
   "metadata": {},
   "source": [
    "Используем сайт: https://cxl.com/ab-test-calculator/"
   ]
  },
  {
   "cell_type": "markdown",
   "id": "dd85bf82",
   "metadata": {},
   "source": [
    "![results_interpretation](task2_test_results.png)"
   ]
  },
  {
   "cell_type": "markdown",
   "id": "efd880fb",
   "metadata": {},
   "source": [
    "![graphs](task2_test_results_graphs.png)"
   ]
  },
  {
   "cell_type": "markdown",
   "id": "031132b2",
   "metadata": {},
   "source": [
    "__*По результатам тестирования, можно утверждать, что в 3-м варианте наблюдается статистически значимый наибольший прирост конверсий. Его рекомендуется использовать.*__"
   ]
  }
 ],
 "metadata": {
  "kernelspec": {
   "display_name": "Python 3 (ipykernel)",
   "language": "python",
   "name": "python3"
  },
  "language_info": {
   "codemirror_mode": {
    "name": "ipython",
    "version": 3
   },
   "file_extension": ".py",
   "mimetype": "text/x-python",
   "name": "python",
   "nbconvert_exporter": "python",
   "pygments_lexer": "ipython3",
   "version": "3.11.6"
  }
 },
 "nbformat": 4,
 "nbformat_minor": 5
}
