{
 "cells": [
  {
   "cell_type": "markdown",
   "id": "cf13e03f",
   "metadata": {},
   "source": [
    "### Задание 2\n",
    "**Подведите результаты эксперимента в экселе по следующим данным: ab_stats.csv - Google Диск:\n",
    "Стат значимо ли отличается ARPPU в двух группах ? Какие рекомендации дадите\n",
    "менеджеру?**"
   ]
  },
  {
   "cell_type": "code",
   "execution_count": 1,
   "id": "d386b034",
   "metadata": {},
   "outputs": [],
   "source": [
    "import pandas as pd\n",
    "import numpy as np\n",
    "import scipy.stats as stats\n",
    "import seaborn as sns"
   ]
  },
  {
   "cell_type": "code",
   "execution_count": 2,
   "id": "3f97d3b9",
   "metadata": {},
   "outputs": [
    {
     "data": {
      "text/html": [
       "<div>\n",
       "<style scoped>\n",
       "    .dataframe tbody tr th:only-of-type {\n",
       "        vertical-align: middle;\n",
       "    }\n",
       "\n",
       "    .dataframe tbody tr th {\n",
       "        vertical-align: top;\n",
       "    }\n",
       "\n",
       "    .dataframe thead th {\n",
       "        text-align: right;\n",
       "    }\n",
       "</style>\n",
       "<table border=\"1\" class=\"dataframe\">\n",
       "  <thead>\n",
       "    <tr style=\"text-align: right;\">\n",
       "      <th></th>\n",
       "      <th>revenue</th>\n",
       "      <th>num_purchases</th>\n",
       "      <th>purchase</th>\n",
       "      <th>ab_group</th>\n",
       "      <th>av_site visit</th>\n",
       "    </tr>\n",
       "  </thead>\n",
       "  <tbody>\n",
       "    <tr>\n",
       "      <th>0</th>\n",
       "      <td>0.0</td>\n",
       "      <td>0</td>\n",
       "      <td>0</td>\n",
       "      <td>A</td>\n",
       "      <td>9.040174</td>\n",
       "    </tr>\n",
       "    <tr>\n",
       "      <th>1</th>\n",
       "      <td>0.0</td>\n",
       "      <td>0</td>\n",
       "      <td>0</td>\n",
       "      <td>A</td>\n",
       "      <td>4.811628</td>\n",
       "    </tr>\n",
       "    <tr>\n",
       "      <th>2</th>\n",
       "      <td>0.0</td>\n",
       "      <td>0</td>\n",
       "      <td>0</td>\n",
       "      <td>A</td>\n",
       "      <td>7.342623</td>\n",
       "    </tr>\n",
       "    <tr>\n",
       "      <th>3</th>\n",
       "      <td>0.0</td>\n",
       "      <td>0</td>\n",
       "      <td>0</td>\n",
       "      <td>A</td>\n",
       "      <td>7.744581</td>\n",
       "    </tr>\n",
       "    <tr>\n",
       "      <th>4</th>\n",
       "      <td>0.0</td>\n",
       "      <td>0</td>\n",
       "      <td>0</td>\n",
       "      <td>A</td>\n",
       "      <td>10.511814</td>\n",
       "    </tr>\n",
       "    <tr>\n",
       "      <th>...</th>\n",
       "      <td>...</td>\n",
       "      <td>...</td>\n",
       "      <td>...</td>\n",
       "      <td>...</td>\n",
       "      <td>...</td>\n",
       "    </tr>\n",
       "    <tr>\n",
       "      <th>23647</th>\n",
       "      <td>0.0</td>\n",
       "      <td>0</td>\n",
       "      <td>0</td>\n",
       "      <td>B</td>\n",
       "      <td>10.207152</td>\n",
       "    </tr>\n",
       "    <tr>\n",
       "      <th>23648</th>\n",
       "      <td>0.0</td>\n",
       "      <td>0</td>\n",
       "      <td>0</td>\n",
       "      <td>B</td>\n",
       "      <td>5.148761</td>\n",
       "    </tr>\n",
       "    <tr>\n",
       "      <th>23649</th>\n",
       "      <td>0.0</td>\n",
       "      <td>0</td>\n",
       "      <td>0</td>\n",
       "      <td>B</td>\n",
       "      <td>4.809019</td>\n",
       "    </tr>\n",
       "    <tr>\n",
       "      <th>23650</th>\n",
       "      <td>0.0</td>\n",
       "      <td>0</td>\n",
       "      <td>0</td>\n",
       "      <td>B</td>\n",
       "      <td>8.127488</td>\n",
       "    </tr>\n",
       "    <tr>\n",
       "      <th>23651</th>\n",
       "      <td>0.0</td>\n",
       "      <td>0</td>\n",
       "      <td>0</td>\n",
       "      <td>B</td>\n",
       "      <td>8.928102</td>\n",
       "    </tr>\n",
       "  </tbody>\n",
       "</table>\n",
       "<p>23652 rows × 5 columns</p>\n",
       "</div>"
      ],
      "text/plain": [
       "       revenue  num_purchases  purchase ab_group  av_site visit\n",
       "0          0.0              0         0        A       9.040174\n",
       "1          0.0              0         0        A       4.811628\n",
       "2          0.0              0         0        A       7.342623\n",
       "3          0.0              0         0        A       7.744581\n",
       "4          0.0              0         0        A      10.511814\n",
       "...        ...            ...       ...      ...            ...\n",
       "23647      0.0              0         0        B      10.207152\n",
       "23648      0.0              0         0        B       5.148761\n",
       "23649      0.0              0         0        B       4.809019\n",
       "23650      0.0              0         0        B       8.127488\n",
       "23651      0.0              0         0        B       8.928102\n",
       "\n",
       "[23652 rows x 5 columns]"
      ]
     },
     "execution_count": 2,
     "metadata": {},
     "output_type": "execute_result"
    }
   ],
   "source": [
    "df = pd.read_csv(\"ab_stats.csv\")\n",
    "df"
   ]
  },
  {
   "cell_type": "markdown",
   "id": "76d3eab6",
   "metadata": {},
   "source": [
    " __*Проверка на наличие пустых ячеек и корректность типов данных:*__"
   ]
  },
  {
   "cell_type": "code",
   "execution_count": 3,
   "id": "fc77dd2c",
   "metadata": {},
   "outputs": [
    {
     "name": "stdout",
     "output_type": "stream",
     "text": [
      "<class 'pandas.core.frame.DataFrame'>\n",
      "RangeIndex: 23652 entries, 0 to 23651\n",
      "Data columns (total 5 columns):\n",
      " #   Column         Non-Null Count  Dtype  \n",
      "---  ------         --------------  -----  \n",
      " 0   revenue        23652 non-null  float64\n",
      " 1   num_purchases  23652 non-null  int64  \n",
      " 2   purchase       23652 non-null  int64  \n",
      " 3   ab_group       23652 non-null  object \n",
      " 4   av_site visit  23652 non-null  float64\n",
      "dtypes: float64(2), int64(2), object(1)\n",
      "memory usage: 924.0+ KB\n"
     ]
    }
   ],
   "source": [
    "df.info()"
   ]
  },
  {
   "cell_type": "markdown",
   "id": "90319c9e",
   "metadata": {},
   "source": [
    "__*Так как расситывается Average Revenue per PAYING User, оставляем в таблице только пользователей, совершивших покупку:*__"
   ]
  },
  {
   "cell_type": "code",
   "execution_count": 4,
   "id": "7d9702c0",
   "metadata": {},
   "outputs": [
    {
     "data": {
      "text/plain": [
       "490"
      ]
     },
     "execution_count": 4,
     "metadata": {},
     "output_type": "execute_result"
    }
   ],
   "source": [
    "df = df[(df[\"purchase\"]==1) & (df[\"num_purchases\"]>0) & (df[\"revenue\"]>0.0)]\n",
    "df.shape[0]"
   ]
  },
  {
   "cell_type": "markdown",
   "id": "ace7ab2f",
   "metadata": {},
   "source": [
    "__*Разделяем на группы по вариантам А и В:*__"
   ]
  },
  {
   "cell_type": "code",
   "execution_count": 5,
   "id": "4523b7e3",
   "metadata": {},
   "outputs": [],
   "source": [
    "control = df[df[\"ab_group\"]==\"A\"][[\"revenue\"]]"
   ]
  },
  {
   "cell_type": "code",
   "execution_count": 6,
   "id": "f0776f7f",
   "metadata": {},
   "outputs": [],
   "source": [
    "variant = df[df[\"ab_group\"]==\"B\"][[\"revenue\"]]"
   ]
  },
  {
   "cell_type": "markdown",
   "id": "b99ae139",
   "metadata": {},
   "source": [
    "__*Визуализируем данные при помощи \"ящика с усами\":*__"
   ]
  },
  {
   "cell_type": "code",
   "execution_count": 7,
   "id": "60d55ea0",
   "metadata": {},
   "outputs": [
    {
     "data": {
      "text/plain": [
       "<AxesSubplot: >"
      ]
     },
     "execution_count": 7,
     "metadata": {},
     "output_type": "execute_result"
    },
    {
     "data": {
      "image/png": "[encoded data removed]",
      "text/plain": [
       "<Figure size 640x480 with 1 Axes>"
      ]
     },
     "metadata": {},
     "output_type": "display_data"
    }
   ],
   "source": [
    "sns.boxplot(control)"
   ]
  },
  {
   "cell_type": "code",
   "execution_count": 8,
   "id": "42654520",
   "metadata": {},
   "outputs": [
    {
     "data": {
      "text/plain": [
       "<AxesSubplot: >"
      ]
     },
     "execution_count": 8,
     "metadata": {},
     "output_type": "execute_result"
    },
    {
     "data": {
      "image/png": "[encoded data removed]",
      "text/plain": [
       "<Figure size 640x480 with 1 Axes>"
      ]
     },
     "metadata": {},
     "output_type": "display_data"
    }
   ],
   "source": [
    "sns.boxplot(variant)"
   ]
  },
  {
   "cell_type": "markdown",
   "id": "0af6b119",
   "metadata": {},
   "source": [
    "__*Удалим выбросы*__:"
   ]
  },
  {
   "cell_type": "code",
   "execution_count": 9,
   "id": "d72ea23e",
   "metadata": {},
   "outputs": [],
   "source": [
    "control = control[control[\"revenue\"]<300]"
   ]
  },
  {
   "cell_type": "markdown",
   "id": "2a1d7290",
   "metadata": {},
   "source": [
    "__*Посчитаем ARPPU в каждой группе*__"
   ]
  },
  {
   "cell_type": "code",
   "execution_count": 10,
   "id": "9e468ec7",
   "metadata": {},
   "outputs": [
    {
     "data": {
      "text/plain": [
       "(12.132120818897635, 12.36211875641025)"
      ]
     },
     "execution_count": 10,
     "metadata": {},
     "output_type": "execute_result"
    }
   ],
   "source": [
    "ARPPU_control = control[\"revenue\"].mean()\n",
    "ARPPU_variant = variant[\"revenue\"].mean()\n",
    "ARPPU_control, ARPPU_variant"
   ]
  },
  {
   "cell_type": "markdown",
   "id": "d1bd98d3",
   "metadata": {},
   "source": [
    "__*Проверим данные на нормальность*__:"
   ]
  },
  {
   "cell_type": "code",
   "execution_count": 11,
   "id": "0ef1ab9b",
   "metadata": {},
   "outputs": [
    {
     "data": {
      "text/plain": [
       "ShapiroResult(statistic=0.4545261859893799, pvalue=3.669928072135898e-27)"
      ]
     },
     "execution_count": 11,
     "metadata": {},
     "output_type": "execute_result"
    }
   ],
   "source": [
    "stats.shapiro(control)"
   ]
  },
  {
   "cell_type": "code",
   "execution_count": 12,
   "id": "2efd335d",
   "metadata": {},
   "outputs": [
    {
     "data": {
      "text/plain": [
       "ShapiroResult(statistic=0.6179500818252563, pvalue=1.599590675565433e-22)"
      ]
     },
     "execution_count": 12,
     "metadata": {},
     "output_type": "execute_result"
    }
   ],
   "source": [
    "stats.shapiro(variant)"
   ]
  },
  {
   "cell_type": "markdown",
   "id": "6fbb38c5",
   "metadata": {},
   "source": [
    "Условия нормальности НЕ соблюдаются. "
   ]
  },
  {
   "cell_type": "markdown",
   "id": "2aed5556",
   "metadata": {},
   "source": [
    "__*Для проверки наличия статистически значимых отличий используем тест Мана-Уитни:*__"
   ]
  },
  {
   "cell_type": "code",
   "execution_count": 13,
   "id": "704b7c29",
   "metadata": {},
   "outputs": [
    {
     "data": {
      "text/plain": [
       "MannwhitneyuResult(statistic=29261.5, pvalue=0.7694313594554261)"
      ]
     },
     "execution_count": 13,
     "metadata": {},
     "output_type": "execute_result"
    }
   ],
   "source": [
    "stats.mannwhitneyu(control[\"revenue\"],variant[\"revenue\"])"
   ]
  },
  {
   "cell_type": "markdown",
   "id": "088f34a2",
   "metadata": {},
   "source": [
    "## _По результатам теста  можно можно судить о том, что в группах отсутствуют статистически значимые отличия, рекомендуется оставить действующий варинат А._"
   ]
  }
 ],
 "metadata": {
  "kernelspec": {
   "display_name": "Python 3 (ipykernel)",
   "language": "python",
   "name": "python3"
  },
  "language_info": {
   "codemirror_mode": {
    "name": "ipython",
    "version": 3
   },
   "file_extension": ".py",
   "mimetype": "text/x-python",
   "name": "python",
   "nbconvert_exporter": "python",
   "pygments_lexer": "ipython3",
   "version": "3.11.6"
  }
 },
 "nbformat": 4,
 "nbformat_minor": 5
}
