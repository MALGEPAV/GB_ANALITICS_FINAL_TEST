{
 "cells": [
  {
   "cell_type": "markdown",
   "id": "fffe14e4",
   "metadata": {},
   "source": [
    "### Задание 4\n",
    "**Вы решили сравнивать метрику CPA в двух группах. Размер выборки - 2350 элементов в\n",
    "каждой группе.\n",
    "Для проверки нормальности распределения на выборке в 2350 наблюдений применили ,\n",
    "критерий Шапиро-Уилка и получили p-value, равный 0.00002, alpha = 5%.\n",
    "Какой бы вывод мы могли сделать в данном случае?\n",
    "В этом случае какой статистический критерий для проверки первоначальной гипотезы тут лучше\n",
    "всего подойдёт и почему ?**"
   ]
  },
  {
   "cell_type": "markdown",
   "id": "206ec829",
   "metadata": {},
   "source": [
    "Так как p-value меньше уровня значимости, следует отвергнуть \"нулевую\" гипотезу о нормальности распределения с вероятностью ошибки 0,05.\n",
    "\n",
    "В этом случае для проверки первоначальной гипотезы лучше подойдет критерий Мана-Уитни, так как его следует использовать для сравнения двух независимых выборок, если не соблюдается условие нормальности."
   ]
  },
  {
   "cell_type": "markdown",
   "id": "950624f5",
   "metadata": {},
   "source": [
    "### Задание 5\n",
    "**Мы провели АБ-тест на увеличение average timespent per user. По итогам тестирования мы\n",
    "получили следующие данные. Является ли результат статистически значимым с уровнем\n",
    "доверия 80%? Какую версию мы выкатим на продакшн? </br>\n",
    "A) Средняя - 360, отклонение - 40, количество - 9802 </br>\n",
    "B) Средняя - 352, отклонение - 58, количество - 9789** </br>"
   ]
  },
  {
   "cell_type": "code",
   "execution_count": 1,
   "id": "f18f467b",
   "metadata": {},
   "outputs": [],
   "source": [
    "import numpy as np\n",
    "import scipy.stats as stats"
   ]
  },
  {
   "cell_type": "code",
   "execution_count": 4,
   "id": "182332ac",
   "metadata": {},
   "outputs": [],
   "source": [
    "n1 = 9802\n",
    "m1 = 360\n",
    "sigma1 = 40\n",
    "\n",
    "n2 = 9789\n",
    "m2 = 352\n",
    "sigma2 = 58"
   ]
  },
  {
   "cell_type": "markdown",
   "id": "f63025ea",
   "metadata": {},
   "source": [
    "Задаем уровень значимости alpha = 20%, соответствующий уровню доверия 80%:"
   ]
  },
  {
   "cell_type": "code",
   "execution_count": 3,
   "id": "8231e2fd",
   "metadata": {},
   "outputs": [],
   "source": [
    "alpha = 0.2"
   ]
  },
  {
   "cell_type": "markdown",
   "id": "ae3e3aaa",
   "metadata": {},
   "source": [
    "_\"Нулевая гипотеза\":_ </br>\n",
    "__H0__: статистически значимых отличий нет. </br>\n",
    "\n",
    "_\"Альтернативная гипотеза:\"_</br>\n",
    "__H1__: статистические значимые отличия есть.</br>\n",
    "\n",
    "Используем двусторонний t-критерий"
   ]
  },
  {
   "cell_type": "markdown",
   "id": "5e4c1f06",
   "metadata": {},
   "source": [
    "Рассчитаем наблюдаемое значение статистики:"
   ]
  },
  {
   "cell_type": "code",
   "execution_count": 7,
   "id": "27319cf8",
   "metadata": {},
   "outputs": [
    {
     "data": {
      "text/plain": [
       "11.236630785707332"
      ]
     },
     "execution_count": 7,
     "metadata": {},
     "output_type": "execute_result"
    }
   ],
   "source": [
    "t_emp = (m1-m2)/np.sqrt((sigma1**2)/n1+(sigma2**2)/n2)\n",
    "t_emp"
   ]
  },
  {
   "cell_type": "markdown",
   "id": "ea2967d7",
   "metadata": {},
   "source": [
    "Рассчитаем границы критической области:"
   ]
  },
  {
   "cell_type": "code",
   "execution_count": 12,
   "id": "ed436124",
   "metadata": {},
   "outputs": [
    {
     "name": "stdout",
     "output_type": "stream",
     "text": [
      "-1.2815947843873807 1.281594784387381\n"
     ]
    }
   ],
   "source": [
    "t1 = stats.t.ppf(alpha/2, df = n1+n2-2)\n",
    "t2 = stats.t.ppf(1-alpha/2, df = n1+n2-2)\n",
    "print (t1, t2)"
   ]
  },
  {
   "cell_type": "markdown",
   "id": "cbfd917f",
   "metadata": {},
   "source": [
    "Так как наблюдаемое значение попало в критическую область, то следует отвергнуть нулевую гипотезу с вероятностью ошибки 20%, то есть сделать вывод в пользу альтернативной гипотезы о наличии статистически значимых отличий."
   ]
  },
  {
   "cell_type": "markdown",
   "id": "b3290e21",
   "metadata": {},
   "source": [
    "Так как среднее выборочное значение average timespent per user в варианте А больше, в продакшн рекомендуется выкативать именно его."
   ]
  }
 ],
 "metadata": {
  "kernelspec": {
   "display_name": "Python 3 (ipykernel)",
   "language": "python",
   "name": "python3"
  },
  "language_info": {
   "codemirror_mode": {
    "name": "ipython",
    "version": 3
   },
   "file_extension": ".py",
   "mimetype": "text/x-python",
   "name": "python",
   "nbconvert_exporter": "python",
   "pygments_lexer": "ipython3",
   "version": "3.11.6"
  }
 },
 "nbformat": 4,
 "nbformat_minor": 5
}
